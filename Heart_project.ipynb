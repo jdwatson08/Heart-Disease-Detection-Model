{
  "nbformat": 4,
  "nbformat_minor": 0,
  "metadata": {
    "colab": {
      "provenance": []
    },
    "kernelspec": {
      "name": "python3",
      "display_name": "Python 3"
    },
    "language_info": {
      "name": "python"
    }
  },
  "cells": [
    {
      "cell_type": "code",
      "execution_count": 1,
      "metadata": {
        "id": "kgJp0edcQ3GU"
      },
      "outputs": [],
      "source": [
        "#Dataset is from\n",
        "#https://www.kaggle.com/datasets/rashikrahmanpritom/heart-attack-analysis-prediction-dataset\n",
        "\n",
        "import pandas as pd\n",
        "from sklearn.model_selection import train_test_split\n",
        "from sklearn.ensemble import RandomForestClassifier\n",
        "import matplotlib.pyplot as plt\n",
        "from sklearn.metrics import mean_absolute_error\n",
        "from sklearn.model_selection import RandomizedSearchCV\n",
        "from sklearn.pipeline import make_pipeline"
      ]
    },
    {
      "cell_type": "code",
      "source": [
        "from google.colab import drive\n",
        "drive.mount('/content/gdrive')"
      ],
      "metadata": {
        "colab": {
          "base_uri": "https://localhost:8080/"
        },
        "id": "2p5728sXQ85I",
        "outputId": "2088ba9d-25aa-4d1a-e929-d3c070d32aef"
      },
      "execution_count": 2,
      "outputs": [
        {
          "output_type": "stream",
          "name": "stdout",
          "text": [
            "Mounted at /content/gdrive\n"
          ]
        }
      ]
    },
    {
      "cell_type": "code",
      "source": [
        "%cd /content/gdrive/My Drive/Kaggle"
      ],
      "metadata": {
        "colab": {
          "base_uri": "https://localhost:8080/"
        },
        "id": "NBU-PHFhRB7_",
        "outputId": "3a681c25-24c4-43de-b09c-5bf2ce167f28"
      },
      "execution_count": 3,
      "outputs": [
        {
          "output_type": "stream",
          "name": "stdout",
          "text": [
            "/content/gdrive/My Drive/Kaggle\n"
          ]
        }
      ]
    },
    {
      "cell_type": "code",
      "source": [
        "!unzip \\*.zip && rm *.zip"
      ],
      "metadata": {
        "colab": {
          "base_uri": "https://localhost:8080/"
        },
        "id": "I9JQ0itdROv2",
        "outputId": "a68a49ea-38b4-4c64-d208-f8cd10174e00"
      },
      "execution_count": 4,
      "outputs": [
        {
          "output_type": "stream",
          "name": "stdout",
          "text": [
            "unzip:  cannot find or open *.zip, *.zip.zip or *.zip.ZIP.\n",
            "\n",
            "No zipfiles found.\n"
          ]
        }
      ]
    },
    {
      "cell_type": "code",
      "source": [
        "!ls"
      ],
      "metadata": {
        "colab": {
          "base_uri": "https://localhost:8080/"
        },
        "id": "tds-Hb4nRTnl",
        "outputId": "cabb5356-5dcb-46b7-dd65-4d327eaa2103"
      },
      "execution_count": 5,
      "outputs": [
        {
          "output_type": "stream",
          "name": "stdout",
          "text": [
            "2023-01-07_2015_submission.csv\tndtv_data_final.csv    test_features.csv\n",
            "Chronic_Kidney_Disease.rar\to2Saturation.csv       train_features.csv\n",
            "dataset.gsheet\t\t\tonehr.data\t       train_labels.csv\n",
            "heart.csv\t\t\tREADME.docx\t       water_potability.csv\n",
            "__MACOSX\t\t\tsample_submission.csv\n",
            "model_rf_rs_80\t\t\tsubmission.csv\n"
          ]
        }
      ]
    },
    {
      "cell_type": "code",
      "source": [
        "def wrangle(filepath):\n",
        "  heart = pd.read_csv('heart.csv')\n",
        "\n",
        "  heart.rename(columns = {'cp':'chest_pain_type', 'trtbps':'resting_heart_beat','chol':'cholestoral','fbs':'fasting_blood_sugar_>_120',\n",
        "  'restecg':'resting_electrocardiographic',\n",
        "  'thalachh':'maximum_heart_rate_achieved', 'exng':'exercise_induced_angina',\n",
        "  'oldpeak':'Previous_Peak','slp':'slope','caa':'number_of_major_vessels','thall':'Thal_rate'}, inplace=True)\n",
        "\n",
        "  return heart\n"
      ],
      "metadata": {
        "id": "gsvjvaMeRU5n"
      },
      "execution_count": 6,
      "outputs": []
    },
    {
      "cell_type": "code",
      "source": [
        "ox = pd.read_csv('o2Saturation.csv')"
      ],
      "metadata": {
        "id": "evMlmZHIRaR3"
      },
      "execution_count": 7,
      "outputs": []
    },
    {
      "cell_type": "code",
      "source": [
        "heart = wrangle('heart.csv')"
      ],
      "metadata": {
        "id": "5xVXc0FTRgQl"
      },
      "execution_count": 8,
      "outputs": []
    },
    {
      "cell_type": "code",
      "source": [
        "heart"
      ],
      "metadata": {
        "colab": {
          "base_uri": "https://localhost:8080/",
          "height": 488
        },
        "id": "AElIrDLORg1R",
        "outputId": "dda5c142-3941-47af-b42a-19899e3b6b81"
      },
      "execution_count": 9,
      "outputs": [
        {
          "output_type": "execute_result",
          "data": {
            "text/plain": [
              "     age  sex  chest_pain_type  resting_heart_beat  cholestoral  \\\n",
              "0     63    1                3                 145          233   \n",
              "1     37    1                2                 130          250   \n",
              "2     41    0                1                 130          204   \n",
              "3     56    1                1                 120          236   \n",
              "4     57    0                0                 120          354   \n",
              "..   ...  ...              ...                 ...          ...   \n",
              "298   57    0                0                 140          241   \n",
              "299   45    1                3                 110          264   \n",
              "300   68    1                0                 144          193   \n",
              "301   57    1                0                 130          131   \n",
              "302   57    0                1                 130          236   \n",
              "\n",
              "     fasting_blood_sugar_>_120  resting_electrocardiographic  \\\n",
              "0                            1                             0   \n",
              "1                            0                             1   \n",
              "2                            0                             0   \n",
              "3                            0                             1   \n",
              "4                            0                             1   \n",
              "..                         ...                           ...   \n",
              "298                          0                             1   \n",
              "299                          0                             1   \n",
              "300                          1                             1   \n",
              "301                          0                             1   \n",
              "302                          0                             0   \n",
              "\n",
              "     maximum_heart_rate_achieved  exercise_induced_angina  Previous_Peak  \\\n",
              "0                            150                        0            2.3   \n",
              "1                            187                        0            3.5   \n",
              "2                            172                        0            1.4   \n",
              "3                            178                        0            0.8   \n",
              "4                            163                        1            0.6   \n",
              "..                           ...                      ...            ...   \n",
              "298                          123                        1            0.2   \n",
              "299                          132                        0            1.2   \n",
              "300                          141                        0            3.4   \n",
              "301                          115                        1            1.2   \n",
              "302                          174                        0            0.0   \n",
              "\n",
              "     slope  number_of_major_vessels  Thal_rate  output  \n",
              "0        0                        0          1       1  \n",
              "1        0                        0          2       1  \n",
              "2        2                        0          2       1  \n",
              "3        2                        0          2       1  \n",
              "4        2                        0          2       1  \n",
              "..     ...                      ...        ...     ...  \n",
              "298      1                        0          3       0  \n",
              "299      1                        0          3       0  \n",
              "300      1                        2          3       0  \n",
              "301      1                        1          3       0  \n",
              "302      1                        1          2       0  \n",
              "\n",
              "[303 rows x 14 columns]"
            ],
            "text/html": [
              "\n",
              "  <div id=\"df-0bc000fa-fed3-4fe0-aea3-7e1fe8ea0611\">\n",
              "    <div class=\"colab-df-container\">\n",
              "      <div>\n",
              "<style scoped>\n",
              "    .dataframe tbody tr th:only-of-type {\n",
              "        vertical-align: middle;\n",
              "    }\n",
              "\n",
              "    .dataframe tbody tr th {\n",
              "        vertical-align: top;\n",
              "    }\n",
              "\n",
              "    .dataframe thead th {\n",
              "        text-align: right;\n",
              "    }\n",
              "</style>\n",
              "<table border=\"1\" class=\"dataframe\">\n",
              "  <thead>\n",
              "    <tr style=\"text-align: right;\">\n",
              "      <th></th>\n",
              "      <th>age</th>\n",
              "      <th>sex</th>\n",
              "      <th>chest_pain_type</th>\n",
              "      <th>resting_heart_beat</th>\n",
              "      <th>cholestoral</th>\n",
              "      <th>fasting_blood_sugar_&gt;_120</th>\n",
              "      <th>resting_electrocardiographic</th>\n",
              "      <th>maximum_heart_rate_achieved</th>\n",
              "      <th>exercise_induced_angina</th>\n",
              "      <th>Previous_Peak</th>\n",
              "      <th>slope</th>\n",
              "      <th>number_of_major_vessels</th>\n",
              "      <th>Thal_rate</th>\n",
              "      <th>output</th>\n",
              "    </tr>\n",
              "  </thead>\n",
              "  <tbody>\n",
              "    <tr>\n",
              "      <th>0</th>\n",
              "      <td>63</td>\n",
              "      <td>1</td>\n",
              "      <td>3</td>\n",
              "      <td>145</td>\n",
              "      <td>233</td>\n",
              "      <td>1</td>\n",
              "      <td>0</td>\n",
              "      <td>150</td>\n",
              "      <td>0</td>\n",
              "      <td>2.3</td>\n",
              "      <td>0</td>\n",
              "      <td>0</td>\n",
              "      <td>1</td>\n",
              "      <td>1</td>\n",
              "    </tr>\n",
              "    <tr>\n",
              "      <th>1</th>\n",
              "      <td>37</td>\n",
              "      <td>1</td>\n",
              "      <td>2</td>\n",
              "      <td>130</td>\n",
              "      <td>250</td>\n",
              "      <td>0</td>\n",
              "      <td>1</td>\n",
              "      <td>187</td>\n",
              "      <td>0</td>\n",
              "      <td>3.5</td>\n",
              "      <td>0</td>\n",
              "      <td>0</td>\n",
              "      <td>2</td>\n",
              "      <td>1</td>\n",
              "    </tr>\n",
              "    <tr>\n",
              "      <th>2</th>\n",
              "      <td>41</td>\n",
              "      <td>0</td>\n",
              "      <td>1</td>\n",
              "      <td>130</td>\n",
              "      <td>204</td>\n",
              "      <td>0</td>\n",
              "      <td>0</td>\n",
              "      <td>172</td>\n",
              "      <td>0</td>\n",
              "      <td>1.4</td>\n",
              "      <td>2</td>\n",
              "      <td>0</td>\n",
              "      <td>2</td>\n",
              "      <td>1</td>\n",
              "    </tr>\n",
              "    <tr>\n",
              "      <th>3</th>\n",
              "      <td>56</td>\n",
              "      <td>1</td>\n",
              "      <td>1</td>\n",
              "      <td>120</td>\n",
              "      <td>236</td>\n",
              "      <td>0</td>\n",
              "      <td>1</td>\n",
              "      <td>178</td>\n",
              "      <td>0</td>\n",
              "      <td>0.8</td>\n",
              "      <td>2</td>\n",
              "      <td>0</td>\n",
              "      <td>2</td>\n",
              "      <td>1</td>\n",
              "    </tr>\n",
              "    <tr>\n",
              "      <th>4</th>\n",
              "      <td>57</td>\n",
              "      <td>0</td>\n",
              "      <td>0</td>\n",
              "      <td>120</td>\n",
              "      <td>354</td>\n",
              "      <td>0</td>\n",
              "      <td>1</td>\n",
              "      <td>163</td>\n",
              "      <td>1</td>\n",
              "      <td>0.6</td>\n",
              "      <td>2</td>\n",
              "      <td>0</td>\n",
              "      <td>2</td>\n",
              "      <td>1</td>\n",
              "    </tr>\n",
              "    <tr>\n",
              "      <th>...</th>\n",
              "      <td>...</td>\n",
              "      <td>...</td>\n",
              "      <td>...</td>\n",
              "      <td>...</td>\n",
              "      <td>...</td>\n",
              "      <td>...</td>\n",
              "      <td>...</td>\n",
              "      <td>...</td>\n",
              "      <td>...</td>\n",
              "      <td>...</td>\n",
              "      <td>...</td>\n",
              "      <td>...</td>\n",
              "      <td>...</td>\n",
              "      <td>...</td>\n",
              "    </tr>\n",
              "    <tr>\n",
              "      <th>298</th>\n",
              "      <td>57</td>\n",
              "      <td>0</td>\n",
              "      <td>0</td>\n",
              "      <td>140</td>\n",
              "      <td>241</td>\n",
              "      <td>0</td>\n",
              "      <td>1</td>\n",
              "      <td>123</td>\n",
              "      <td>1</td>\n",
              "      <td>0.2</td>\n",
              "      <td>1</td>\n",
              "      <td>0</td>\n",
              "      <td>3</td>\n",
              "      <td>0</td>\n",
              "    </tr>\n",
              "    <tr>\n",
              "      <th>299</th>\n",
              "      <td>45</td>\n",
              "      <td>1</td>\n",
              "      <td>3</td>\n",
              "      <td>110</td>\n",
              "      <td>264</td>\n",
              "      <td>0</td>\n",
              "      <td>1</td>\n",
              "      <td>132</td>\n",
              "      <td>0</td>\n",
              "      <td>1.2</td>\n",
              "      <td>1</td>\n",
              "      <td>0</td>\n",
              "      <td>3</td>\n",
              "      <td>0</td>\n",
              "    </tr>\n",
              "    <tr>\n",
              "      <th>300</th>\n",
              "      <td>68</td>\n",
              "      <td>1</td>\n",
              "      <td>0</td>\n",
              "      <td>144</td>\n",
              "      <td>193</td>\n",
              "      <td>1</td>\n",
              "      <td>1</td>\n",
              "      <td>141</td>\n",
              "      <td>0</td>\n",
              "      <td>3.4</td>\n",
              "      <td>1</td>\n",
              "      <td>2</td>\n",
              "      <td>3</td>\n",
              "      <td>0</td>\n",
              "    </tr>\n",
              "    <tr>\n",
              "      <th>301</th>\n",
              "      <td>57</td>\n",
              "      <td>1</td>\n",
              "      <td>0</td>\n",
              "      <td>130</td>\n",
              "      <td>131</td>\n",
              "      <td>0</td>\n",
              "      <td>1</td>\n",
              "      <td>115</td>\n",
              "      <td>1</td>\n",
              "      <td>1.2</td>\n",
              "      <td>1</td>\n",
              "      <td>1</td>\n",
              "      <td>3</td>\n",
              "      <td>0</td>\n",
              "    </tr>\n",
              "    <tr>\n",
              "      <th>302</th>\n",
              "      <td>57</td>\n",
              "      <td>0</td>\n",
              "      <td>1</td>\n",
              "      <td>130</td>\n",
              "      <td>236</td>\n",
              "      <td>0</td>\n",
              "      <td>0</td>\n",
              "      <td>174</td>\n",
              "      <td>0</td>\n",
              "      <td>0.0</td>\n",
              "      <td>1</td>\n",
              "      <td>1</td>\n",
              "      <td>2</td>\n",
              "      <td>0</td>\n",
              "    </tr>\n",
              "  </tbody>\n",
              "</table>\n",
              "<p>303 rows × 14 columns</p>\n",
              "</div>\n",
              "      <button class=\"colab-df-convert\" onclick=\"convertToInteractive('df-0bc000fa-fed3-4fe0-aea3-7e1fe8ea0611')\"\n",
              "              title=\"Convert this dataframe to an interactive table.\"\n",
              "              style=\"display:none;\">\n",
              "        \n",
              "  <svg xmlns=\"http://www.w3.org/2000/svg\" height=\"24px\"viewBox=\"0 0 24 24\"\n",
              "       width=\"24px\">\n",
              "    <path d=\"M0 0h24v24H0V0z\" fill=\"none\"/>\n",
              "    <path d=\"M18.56 5.44l.94 2.06.94-2.06 2.06-.94-2.06-.94-.94-2.06-.94 2.06-2.06.94zm-11 1L8.5 8.5l.94-2.06 2.06-.94-2.06-.94L8.5 2.5l-.94 2.06-2.06.94zm10 10l.94 2.06.94-2.06 2.06-.94-2.06-.94-.94-2.06-.94 2.06-2.06.94z\"/><path d=\"M17.41 7.96l-1.37-1.37c-.4-.4-.92-.59-1.43-.59-.52 0-1.04.2-1.43.59L10.3 9.45l-7.72 7.72c-.78.78-.78 2.05 0 2.83L4 21.41c.39.39.9.59 1.41.59.51 0 1.02-.2 1.41-.59l7.78-7.78 2.81-2.81c.8-.78.8-2.07 0-2.86zM5.41 20L4 18.59l7.72-7.72 1.47 1.35L5.41 20z\"/>\n",
              "  </svg>\n",
              "      </button>\n",
              "      \n",
              "  <style>\n",
              "    .colab-df-container {\n",
              "      display:flex;\n",
              "      flex-wrap:wrap;\n",
              "      gap: 12px;\n",
              "    }\n",
              "\n",
              "    .colab-df-convert {\n",
              "      background-color: #E8F0FE;\n",
              "      border: none;\n",
              "      border-radius: 50%;\n",
              "      cursor: pointer;\n",
              "      display: none;\n",
              "      fill: #1967D2;\n",
              "      height: 32px;\n",
              "      padding: 0 0 0 0;\n",
              "      width: 32px;\n",
              "    }\n",
              "\n",
              "    .colab-df-convert:hover {\n",
              "      background-color: #E2EBFA;\n",
              "      box-shadow: 0px 1px 2px rgba(60, 64, 67, 0.3), 0px 1px 3px 1px rgba(60, 64, 67, 0.15);\n",
              "      fill: #174EA6;\n",
              "    }\n",
              "\n",
              "    [theme=dark] .colab-df-convert {\n",
              "      background-color: #3B4455;\n",
              "      fill: #D2E3FC;\n",
              "    }\n",
              "\n",
              "    [theme=dark] .colab-df-convert:hover {\n",
              "      background-color: #434B5C;\n",
              "      box-shadow: 0px 1px 3px 1px rgba(0, 0, 0, 0.15);\n",
              "      filter: drop-shadow(0px 1px 2px rgba(0, 0, 0, 0.3));\n",
              "      fill: #FFFFFF;\n",
              "    }\n",
              "  </style>\n",
              "\n",
              "      <script>\n",
              "        const buttonEl =\n",
              "          document.querySelector('#df-0bc000fa-fed3-4fe0-aea3-7e1fe8ea0611 button.colab-df-convert');\n",
              "        buttonEl.style.display =\n",
              "          google.colab.kernel.accessAllowed ? 'block' : 'none';\n",
              "\n",
              "        async function convertToInteractive(key) {\n",
              "          const element = document.querySelector('#df-0bc000fa-fed3-4fe0-aea3-7e1fe8ea0611');\n",
              "          const dataTable =\n",
              "            await google.colab.kernel.invokeFunction('convertToInteractive',\n",
              "                                                     [key], {});\n",
              "          if (!dataTable) return;\n",
              "\n",
              "          const docLinkHtml = 'Like what you see? Visit the ' +\n",
              "            '<a target=\"_blank\" href=https://colab.research.google.com/notebooks/data_table.ipynb>data table notebook</a>'\n",
              "            + ' to learn more about interactive tables.';\n",
              "          element.innerHTML = '';\n",
              "          dataTable['output_type'] = 'display_data';\n",
              "          await google.colab.output.renderOutput(dataTable, element);\n",
              "          const docLink = document.createElement('div');\n",
              "          docLink.innerHTML = docLinkHtml;\n",
              "          element.appendChild(docLink);\n",
              "        }\n",
              "      </script>\n",
              "    </div>\n",
              "  </div>\n",
              "  "
            ]
          },
          "metadata": {},
          "execution_count": 9
        }
      ]
    },
    {
      "cell_type": "code",
      "source": [
        "heart.info()"
      ],
      "metadata": {
        "colab": {
          "base_uri": "https://localhost:8080/"
        },
        "id": "6jOsXy-mRj1T",
        "outputId": "7e9294e4-53ee-42a3-e760-edc018251003"
      },
      "execution_count": 10,
      "outputs": [
        {
          "output_type": "stream",
          "name": "stdout",
          "text": [
            "<class 'pandas.core.frame.DataFrame'>\n",
            "RangeIndex: 303 entries, 0 to 302\n",
            "Data columns (total 14 columns):\n",
            " #   Column                        Non-Null Count  Dtype  \n",
            "---  ------                        --------------  -----  \n",
            " 0   age                           303 non-null    int64  \n",
            " 1   sex                           303 non-null    int64  \n",
            " 2   chest_pain_type               303 non-null    int64  \n",
            " 3   resting_heart_beat            303 non-null    int64  \n",
            " 4   cholestoral                   303 non-null    int64  \n",
            " 5   fasting_blood_sugar_>_120     303 non-null    int64  \n",
            " 6   resting_electrocardiographic  303 non-null    int64  \n",
            " 7   maximum_heart_rate_achieved   303 non-null    int64  \n",
            " 8   exercise_induced_angina       303 non-null    int64  \n",
            " 9   Previous_Peak                 303 non-null    float64\n",
            " 10  slope                         303 non-null    int64  \n",
            " 11  number_of_major_vessels       303 non-null    int64  \n",
            " 12  Thal_rate                     303 non-null    int64  \n",
            " 13  output                        303 non-null    int64  \n",
            "dtypes: float64(1), int64(13)\n",
            "memory usage: 33.3 KB\n"
          ]
        }
      ]
    },
    {
      "cell_type": "code",
      "source": [],
      "metadata": {
        "id": "jLDTM9K3Iims"
      },
      "execution_count": 10,
      "outputs": []
    },
    {
      "cell_type": "markdown",
      "source": [
        "Define Target"
      ],
      "metadata": {
        "id": "hZczwq_bIu9Q"
      }
    },
    {
      "cell_type": "code",
      "source": [
        "target = 'output'\n",
        "X = heart.drop(columns = target)\n",
        "y =heart[target]"
      ],
      "metadata": {
        "id": "hEM0EnlRIzNJ"
      },
      "execution_count": 11,
      "outputs": []
    },
    {
      "cell_type": "code",
      "source": [
        "y_pred = [y.mean()] *len(y)\n",
        "mean_absolute_error(y,y_pred)"
      ],
      "metadata": {
        "colab": {
          "base_uri": "https://localhost:8080/"
        },
        "id": "yRCFT7nWN9Bq",
        "outputId": "c1a9a65e-4ef9-4f8c-beb5-359e914b7656"
      },
      "execution_count": 12,
      "outputs": [
        {
          "output_type": "execute_result",
          "data": {
            "text/plain": [
              "0.49602980099990196"
            ]
          },
          "metadata": {},
          "execution_count": 12
        }
      ]
    },
    {
      "cell_type": "code",
      "source": [
        "X_train,X_test,y_train,y_test = train_test_split(X,y,test_size=0.2, random_state=42)\n",
        "\n",
        "model_rf = RandomForestClassifier(random_state=0)\n",
        "\n",
        "model_rf.fit(X_train,y_train)"
      ],
      "metadata": {
        "colab": {
          "base_uri": "https://localhost:8080/"
        },
        "id": "YBkfnAe8Jx50",
        "outputId": "fc1a4641-bf68-4755-e79e-44da79868b3f"
      },
      "execution_count": 15,
      "outputs": [
        {
          "output_type": "execute_result",
          "data": {
            "text/plain": [
              "RandomForestClassifier(random_state=0)"
            ]
          },
          "metadata": {},
          "execution_count": 15
        }
      ]
    },
    {
      "cell_type": "code",
      "source": [
        "import seaborn as sns\n",
        "sns.pairplot(data=heart)"
      ],
      "metadata": {
        "id": "n2RC18E1KWgV"
      },
      "execution_count": null,
      "outputs": []
    },
    {
      "cell_type": "markdown",
      "source": [
        "# Model Score"
      ],
      "metadata": {
        "id": "l34ZrdTpf86J"
      }
    },
    {
      "cell_type": "code",
      "source": [
        "y_pred = model_rf.predict(X_test)\n",
        "\n",
        "mean_absolute_error(y_test,y_pred)"
      ],
      "metadata": {
        "colab": {
          "base_uri": "https://localhost:8080/"
        },
        "id": "80gE7iXfMM6a",
        "outputId": "4d3f7c30-7746-4736-ec22-60f1cc02bc3f"
      },
      "execution_count": 16,
      "outputs": [
        {
          "output_type": "execute_result",
          "data": {
            "text/plain": [
              "0.14754098360655737"
            ]
          },
          "metadata": {},
          "execution_count": 16
        }
      ]
    },
    {
      "cell_type": "code",
      "source": [
        "model_rf.score(X_test,y_test)"
      ],
      "metadata": {
        "colab": {
          "base_uri": "https://localhost:8080/"
        },
        "id": "SpfYVtKSNIWx",
        "outputId": "126d1198-93a3-4fa1-8ff9-56dd3d523001"
      },
      "execution_count": 17,
      "outputs": [
        {
          "output_type": "execute_result",
          "data": {
            "text/plain": [
              "0.8524590163934426"
            ]
          },
          "metadata": {},
          "execution_count": 17
        }
      ]
    },
    {
      "cell_type": "code",
      "source": [
        "import plotly.express as px\n",
        "fig = px.scatter(x=heart['age'], y=heart['maximum_heart_rate_achieved'], trendline='ols')\n",
        "fig.show()"
      ],
      "metadata": {
        "colab": {
          "base_uri": "https://localhost:8080/",
          "height": 542
        },
        "id": "max-YRS8Nc1c",
        "outputId": "e99e6395-1864-419b-91dc-d0ba8c51abf8"
      },
      "execution_count": 18,
      "outputs": [
        {
          "output_type": "display_data",
          "data": {
            "text/html": [
              "<html>\n",
              "<head><meta charset=\"utf-8\" /></head>\n",
              "<body>\n",
              "    <div>            <script src=\"https://cdnjs.cloudflare.com/ajax/libs/mathjax/2.7.5/MathJax.js?config=TeX-AMS-MML_SVG\"></script><script type=\"text/javascript\">if (window.MathJax) {MathJax.Hub.Config({SVG: {font: \"STIX-Web\"}});}</script>                <script type=\"text/javascript\">window.PlotlyConfig = {MathJaxConfig: 'local'};</script>\n",
              "        <script src=\"https://cdn.plot.ly/plotly-2.8.3.min.js\"></script>                <div id=\"8403ed72-800f-4b23-870a-dff8ad00a116\" class=\"plotly-graph-div\" style=\"height:525px; width:100%;\"></div>            <script type=\"text/javascript\">                                    window.PLOTLYENV=window.PLOTLYENV || {};                                    if (document.getElementById(\"8403ed72-800f-4b23-870a-dff8ad00a116\")) {                    Plotly.newPlot(                        \"8403ed72-800f-4b23-870a-dff8ad00a116\",                        [{\"hovertemplate\":\"x=%{x}<br>y=%{y}<extra></extra>\",\"legendgroup\":\"\",\"marker\":{\"color\":\"#636efa\",\"symbol\":\"circle\"},\"mode\":\"markers\",\"name\":\"\",\"orientation\":\"v\",\"showlegend\":false,\"x\":[63,37,41,56,57,57,56,44,52,57,54,48,49,64,58,50,58,66,43,69,59,44,42,61,40,71,59,51,65,53,41,65,44,54,51,46,54,54,65,65,51,48,45,53,39,52,44,47,53,53,51,66,62,44,63,52,48,45,34,57,71,54,52,41,58,35,51,45,44,62,54,51,29,51,43,55,51,59,52,58,41,45,60,52,42,67,68,46,54,58,48,57,52,54,45,53,62,52,43,53,42,59,63,42,50,68,69,45,50,50,64,57,64,43,55,37,41,56,46,46,64,59,41,54,39,34,47,67,52,74,54,49,42,41,41,49,60,62,57,64,51,43,42,67,76,70,44,60,44,42,66,71,64,66,39,58,47,35,58,56,56,55,41,38,38,67,67,62,63,53,56,48,58,58,60,40,60,64,43,57,55,65,61,58,50,44,60,54,50,41,51,58,54,60,60,59,46,67,62,65,44,60,58,68,62,52,59,60,49,59,57,61,39,61,56,43,62,63,65,48,63,55,65,56,54,70,62,35,59,64,47,57,55,64,70,51,58,60,77,35,70,59,64,57,56,48,56,66,54,69,51,43,62,67,59,45,58,50,62,38,66,52,53,63,54,66,55,49,54,56,46,61,67,58,47,52,58,57,58,61,42,52,59,40,61,46,59,57,57,55,61,58,58,67,44,63,63,59,57,45,68,57,57],\"xaxis\":\"x\",\"y\":[150,187,172,178,163,148,153,173,162,174,160,139,171,144,162,158,172,114,171,151,161,179,178,137,178,162,157,123,157,152,168,140,188,152,125,160,170,165,148,151,142,180,148,143,182,172,180,156,115,160,149,151,146,175,172,158,186,185,174,159,130,156,190,132,165,182,143,175,170,163,147,154,202,186,165,161,166,164,184,154,179,170,160,178,122,160,151,156,158,122,175,168,169,159,138,111,157,147,162,173,178,145,179,194,163,115,131,152,162,159,154,173,133,161,155,170,168,162,172,152,122,182,172,167,179,192,143,172,169,121,163,162,162,153,163,163,96,140,126,105,157,181,173,142,116,143,149,171,169,150,138,125,155,152,152,131,179,174,144,163,169,166,182,173,173,108,129,160,147,155,142,168,160,173,132,114,160,158,120,112,132,114,169,165,128,153,144,109,163,158,142,131,113,142,155,140,147,163,99,158,177,141,111,150,145,161,142,157,139,162,150,140,140,146,144,136,97,132,127,150,154,111,174,133,126,125,103,130,159,131,152,124,145,96,109,173,171,170,162,156,112,143,132,88,105,166,150,120,195,146,122,143,106,125,125,147,130,126,154,182,165,160,95,169,108,132,117,126,116,103,144,145,71,156,118,168,105,141,152,125,125,156,134,181,138,120,162,164,143,130,161,140,146,150,144,144,136,90,123,132,141,115,174],\"yaxis\":\"y\",\"type\":\"scatter\"},{\"hovertemplate\":\"<b>OLS trendline</b><br>y = -1.00508 * x + 204.289<br>R<sup>2</sup>=0.158820<br><br>x=%{x}<br>y=%{y} <b>(trend)</b><extra></extra>\",\"legendgroup\":\"\",\"marker\":{\"color\":\"#636efa\",\"symbol\":\"circle\"},\"mode\":\"lines\",\"name\":\"\",\"showlegend\":false,\"x\":[29,34,34,35,35,35,35,37,37,38,38,38,39,39,39,39,40,40,40,41,41,41,41,41,41,41,41,41,41,42,42,42,42,42,42,42,42,43,43,43,43,43,43,43,43,44,44,44,44,44,44,44,44,44,44,44,45,45,45,45,45,45,45,45,46,46,46,46,46,46,46,47,47,47,47,47,48,48,48,48,48,48,48,49,49,49,49,49,50,50,50,50,50,50,50,51,51,51,51,51,51,51,51,51,51,51,51,52,52,52,52,52,52,52,52,52,52,52,52,52,53,53,53,53,53,53,53,53,54,54,54,54,54,54,54,54,54,54,54,54,54,54,54,54,55,55,55,55,55,55,55,55,56,56,56,56,56,56,56,56,56,56,56,57,57,57,57,57,57,57,57,57,57,57,57,57,57,57,57,57,58,58,58,58,58,58,58,58,58,58,58,58,58,58,58,58,58,58,58,59,59,59,59,59,59,59,59,59,59,59,59,59,59,60,60,60,60,60,60,60,60,60,60,60,61,61,61,61,61,61,61,61,62,62,62,62,62,62,62,62,62,62,62,63,63,63,63,63,63,63,63,63,64,64,64,64,64,64,64,64,64,64,65,65,65,65,65,65,65,65,66,66,66,66,66,66,66,67,67,67,67,67,67,67,67,67,68,68,68,68,69,69,69,70,70,70,70,71,71,71,74,76,77],\"xaxis\":\"x\",\"y\":[175.14198169752598,170.1165975872278,170.1165975872278,169.11152076516817,169.11152076516817,169.11152076516817,169.11152076516817,167.1013671210489,167.1013671210489,166.09629029898926,166.09629029898926,166.09629029898926,165.09121347692962,165.09121347692962,165.09121347692962,165.09121347692962,164.08613665487,164.08613665487,164.08613665487,163.08105983281035,163.08105983281035,163.08105983281035,163.08105983281035,163.08105983281035,163.08105983281035,163.08105983281035,163.08105983281035,163.08105983281035,163.08105983281035,162.07598301075072,162.07598301075072,162.07598301075072,162.07598301075072,162.07598301075072,162.07598301075072,162.07598301075072,162.07598301075072,161.07090618869108,161.07090618869108,161.07090618869108,161.07090618869108,161.07090618869108,161.07090618869108,161.07090618869108,161.07090618869108,160.06582936663145,160.06582936663145,160.06582936663145,160.06582936663145,160.06582936663145,160.06582936663145,160.06582936663145,160.06582936663145,160.06582936663145,160.06582936663145,160.06582936663145,159.0607525445718,159.0607525445718,159.0607525445718,159.0607525445718,159.0607525445718,159.0607525445718,159.0607525445718,159.0607525445718,158.05567572251218,158.05567572251218,158.05567572251218,158.05567572251218,158.05567572251218,158.05567572251218,158.05567572251218,157.05059890045254,157.05059890045254,157.05059890045254,157.05059890045254,157.05059890045254,156.0455220783929,156.0455220783929,156.0455220783929,156.0455220783929,156.0455220783929,156.0455220783929,156.0455220783929,155.04044525633327,155.04044525633327,155.04044525633327,155.04044525633327,155.04044525633327,154.03536843427364,154.03536843427364,154.03536843427364,154.03536843427364,154.03536843427364,154.03536843427364,154.03536843427364,153.030291612214,153.030291612214,153.030291612214,153.030291612214,153.030291612214,153.030291612214,153.030291612214,153.030291612214,153.030291612214,153.030291612214,153.030291612214,153.030291612214,152.02521479015437,152.02521479015437,152.02521479015437,152.02521479015437,152.02521479015437,152.02521479015437,152.02521479015437,152.02521479015437,152.02521479015437,152.02521479015437,152.02521479015437,152.02521479015437,152.02521479015437,151.02013796809473,151.02013796809473,151.02013796809473,151.02013796809473,151.02013796809473,151.02013796809473,151.02013796809473,151.02013796809473,150.0150611460351,150.0150611460351,150.0150611460351,150.0150611460351,150.0150611460351,150.0150611460351,150.0150611460351,150.0150611460351,150.0150611460351,150.0150611460351,150.0150611460351,150.0150611460351,150.0150611460351,150.0150611460351,150.0150611460351,150.0150611460351,149.00998432397546,149.00998432397546,149.00998432397546,149.00998432397546,149.00998432397546,149.00998432397546,149.00998432397546,149.00998432397546,148.00490750191582,148.00490750191582,148.00490750191582,148.00490750191582,148.00490750191582,148.00490750191582,148.00490750191582,148.00490750191582,148.00490750191582,148.00490750191582,148.00490750191582,146.9998306798562,146.9998306798562,146.9998306798562,146.9998306798562,146.9998306798562,146.9998306798562,146.9998306798562,146.9998306798562,146.9998306798562,146.9998306798562,146.9998306798562,146.9998306798562,146.9998306798562,146.9998306798562,146.9998306798562,146.9998306798562,146.9998306798562,145.99475385779655,145.99475385779655,145.99475385779655,145.99475385779655,145.99475385779655,145.99475385779655,145.99475385779655,145.99475385779655,145.99475385779655,145.99475385779655,145.99475385779655,145.99475385779655,145.99475385779655,145.99475385779655,145.99475385779655,145.99475385779655,145.99475385779655,145.99475385779655,145.99475385779655,144.98967703573692,144.98967703573692,144.98967703573692,144.98967703573692,144.98967703573692,144.98967703573692,144.98967703573692,144.98967703573692,144.98967703573692,144.98967703573692,144.98967703573692,144.98967703573692,144.98967703573692,144.98967703573692,143.98460021367725,143.98460021367725,143.98460021367725,143.98460021367725,143.98460021367725,143.98460021367725,143.98460021367725,143.98460021367725,143.98460021367725,143.98460021367725,143.98460021367725,142.97952339161765,142.97952339161765,142.97952339161765,142.97952339161765,142.97952339161765,142.97952339161765,142.97952339161765,142.97952339161765,141.97444656955798,141.97444656955798,141.97444656955798,141.97444656955798,141.97444656955798,141.97444656955798,141.97444656955798,141.97444656955798,141.97444656955798,141.97444656955798,141.97444656955798,140.96936974749838,140.96936974749838,140.96936974749838,140.96936974749838,140.96936974749838,140.96936974749838,140.96936974749838,140.96936974749838,140.96936974749838,139.9642929254387,139.9642929254387,139.9642929254387,139.9642929254387,139.9642929254387,139.9642929254387,139.9642929254387,139.9642929254387,139.9642929254387,139.9642929254387,138.9592161033791,138.9592161033791,138.9592161033791,138.9592161033791,138.9592161033791,138.9592161033791,138.9592161033791,138.9592161033791,137.95413928131944,137.95413928131944,137.95413928131944,137.95413928131944,137.95413928131944,137.95413928131944,137.95413928131944,136.94906245925984,136.94906245925984,136.94906245925984,136.94906245925984,136.94906245925984,136.94906245925984,136.94906245925984,136.94906245925984,136.94906245925984,135.94398563720017,135.94398563720017,135.94398563720017,135.94398563720017,134.93890881514056,134.93890881514056,134.93890881514056,133.9338319930809,133.9338319930809,133.9338319930809,133.9338319930809,132.9287551710213,132.9287551710213,132.9287551710213,129.91352470484236,127.90337106072309,126.89829423866345],\"yaxis\":\"y\",\"type\":\"scatter\"}],                        {\"template\":{\"data\":{\"bar\":[{\"error_x\":{\"color\":\"#2a3f5f\"},\"error_y\":{\"color\":\"#2a3f5f\"},\"marker\":{\"line\":{\"color\":\"#E5ECF6\",\"width\":0.5},\"pattern\":{\"fillmode\":\"overlay\",\"size\":10,\"solidity\":0.2}},\"type\":\"bar\"}],\"barpolar\":[{\"marker\":{\"line\":{\"color\":\"#E5ECF6\",\"width\":0.5},\"pattern\":{\"fillmode\":\"overlay\",\"size\":10,\"solidity\":0.2}},\"type\":\"barpolar\"}],\"carpet\":[{\"aaxis\":{\"endlinecolor\":\"#2a3f5f\",\"gridcolor\":\"white\",\"linecolor\":\"white\",\"minorgridcolor\":\"white\",\"startlinecolor\":\"#2a3f5f\"},\"baxis\":{\"endlinecolor\":\"#2a3f5f\",\"gridcolor\":\"white\",\"linecolor\":\"white\",\"minorgridcolor\":\"white\",\"startlinecolor\":\"#2a3f5f\"},\"type\":\"carpet\"}],\"choropleth\":[{\"colorbar\":{\"outlinewidth\":0,\"ticks\":\"\"},\"type\":\"choropleth\"}],\"contour\":[{\"colorbar\":{\"outlinewidth\":0,\"ticks\":\"\"},\"colorscale\":[[0.0,\"#0d0887\"],[0.1111111111111111,\"#46039f\"],[0.2222222222222222,\"#7201a8\"],[0.3333333333333333,\"#9c179e\"],[0.4444444444444444,\"#bd3786\"],[0.5555555555555556,\"#d8576b\"],[0.6666666666666666,\"#ed7953\"],[0.7777777777777778,\"#fb9f3a\"],[0.8888888888888888,\"#fdca26\"],[1.0,\"#f0f921\"]],\"type\":\"contour\"}],\"contourcarpet\":[{\"colorbar\":{\"outlinewidth\":0,\"ticks\":\"\"},\"type\":\"contourcarpet\"}],\"heatmap\":[{\"colorbar\":{\"outlinewidth\":0,\"ticks\":\"\"},\"colorscale\":[[0.0,\"#0d0887\"],[0.1111111111111111,\"#46039f\"],[0.2222222222222222,\"#7201a8\"],[0.3333333333333333,\"#9c179e\"],[0.4444444444444444,\"#bd3786\"],[0.5555555555555556,\"#d8576b\"],[0.6666666666666666,\"#ed7953\"],[0.7777777777777778,\"#fb9f3a\"],[0.8888888888888888,\"#fdca26\"],[1.0,\"#f0f921\"]],\"type\":\"heatmap\"}],\"heatmapgl\":[{\"colorbar\":{\"outlinewidth\":0,\"ticks\":\"\"},\"colorscale\":[[0.0,\"#0d0887\"],[0.1111111111111111,\"#46039f\"],[0.2222222222222222,\"#7201a8\"],[0.3333333333333333,\"#9c179e\"],[0.4444444444444444,\"#bd3786\"],[0.5555555555555556,\"#d8576b\"],[0.6666666666666666,\"#ed7953\"],[0.7777777777777778,\"#fb9f3a\"],[0.8888888888888888,\"#fdca26\"],[1.0,\"#f0f921\"]],\"type\":\"heatmapgl\"}],\"histogram\":[{\"marker\":{\"pattern\":{\"fillmode\":\"overlay\",\"size\":10,\"solidity\":0.2}},\"type\":\"histogram\"}],\"histogram2d\":[{\"colorbar\":{\"outlinewidth\":0,\"ticks\":\"\"},\"colorscale\":[[0.0,\"#0d0887\"],[0.1111111111111111,\"#46039f\"],[0.2222222222222222,\"#7201a8\"],[0.3333333333333333,\"#9c179e\"],[0.4444444444444444,\"#bd3786\"],[0.5555555555555556,\"#d8576b\"],[0.6666666666666666,\"#ed7953\"],[0.7777777777777778,\"#fb9f3a\"],[0.8888888888888888,\"#fdca26\"],[1.0,\"#f0f921\"]],\"type\":\"histogram2d\"}],\"histogram2dcontour\":[{\"colorbar\":{\"outlinewidth\":0,\"ticks\":\"\"},\"colorscale\":[[0.0,\"#0d0887\"],[0.1111111111111111,\"#46039f\"],[0.2222222222222222,\"#7201a8\"],[0.3333333333333333,\"#9c179e\"],[0.4444444444444444,\"#bd3786\"],[0.5555555555555556,\"#d8576b\"],[0.6666666666666666,\"#ed7953\"],[0.7777777777777778,\"#fb9f3a\"],[0.8888888888888888,\"#fdca26\"],[1.0,\"#f0f921\"]],\"type\":\"histogram2dcontour\"}],\"mesh3d\":[{\"colorbar\":{\"outlinewidth\":0,\"ticks\":\"\"},\"type\":\"mesh3d\"}],\"parcoords\":[{\"line\":{\"colorbar\":{\"outlinewidth\":0,\"ticks\":\"\"}},\"type\":\"parcoords\"}],\"pie\":[{\"automargin\":true,\"type\":\"pie\"}],\"scatter\":[{\"marker\":{\"colorbar\":{\"outlinewidth\":0,\"ticks\":\"\"}},\"type\":\"scatter\"}],\"scatter3d\":[{\"line\":{\"colorbar\":{\"outlinewidth\":0,\"ticks\":\"\"}},\"marker\":{\"colorbar\":{\"outlinewidth\":0,\"ticks\":\"\"}},\"type\":\"scatter3d\"}],\"scattercarpet\":[{\"marker\":{\"colorbar\":{\"outlinewidth\":0,\"ticks\":\"\"}},\"type\":\"scattercarpet\"}],\"scattergeo\":[{\"marker\":{\"colorbar\":{\"outlinewidth\":0,\"ticks\":\"\"}},\"type\":\"scattergeo\"}],\"scattergl\":[{\"marker\":{\"colorbar\":{\"outlinewidth\":0,\"ticks\":\"\"}},\"type\":\"scattergl\"}],\"scattermapbox\":[{\"marker\":{\"colorbar\":{\"outlinewidth\":0,\"ticks\":\"\"}},\"type\":\"scattermapbox\"}],\"scatterpolar\":[{\"marker\":{\"colorbar\":{\"outlinewidth\":0,\"ticks\":\"\"}},\"type\":\"scatterpolar\"}],\"scatterpolargl\":[{\"marker\":{\"colorbar\":{\"outlinewidth\":0,\"ticks\":\"\"}},\"type\":\"scatterpolargl\"}],\"scatterternary\":[{\"marker\":{\"colorbar\":{\"outlinewidth\":0,\"ticks\":\"\"}},\"type\":\"scatterternary\"}],\"surface\":[{\"colorbar\":{\"outlinewidth\":0,\"ticks\":\"\"},\"colorscale\":[[0.0,\"#0d0887\"],[0.1111111111111111,\"#46039f\"],[0.2222222222222222,\"#7201a8\"],[0.3333333333333333,\"#9c179e\"],[0.4444444444444444,\"#bd3786\"],[0.5555555555555556,\"#d8576b\"],[0.6666666666666666,\"#ed7953\"],[0.7777777777777778,\"#fb9f3a\"],[0.8888888888888888,\"#fdca26\"],[1.0,\"#f0f921\"]],\"type\":\"surface\"}],\"table\":[{\"cells\":{\"fill\":{\"color\":\"#EBF0F8\"},\"line\":{\"color\":\"white\"}},\"header\":{\"fill\":{\"color\":\"#C8D4E3\"},\"line\":{\"color\":\"white\"}},\"type\":\"table\"}]},\"layout\":{\"annotationdefaults\":{\"arrowcolor\":\"#2a3f5f\",\"arrowhead\":0,\"arrowwidth\":1},\"autotypenumbers\":\"strict\",\"coloraxis\":{\"colorbar\":{\"outlinewidth\":0,\"ticks\":\"\"}},\"colorscale\":{\"diverging\":[[0,\"#8e0152\"],[0.1,\"#c51b7d\"],[0.2,\"#de77ae\"],[0.3,\"#f1b6da\"],[0.4,\"#fde0ef\"],[0.5,\"#f7f7f7\"],[0.6,\"#e6f5d0\"],[0.7,\"#b8e186\"],[0.8,\"#7fbc41\"],[0.9,\"#4d9221\"],[1,\"#276419\"]],\"sequential\":[[0.0,\"#0d0887\"],[0.1111111111111111,\"#46039f\"],[0.2222222222222222,\"#7201a8\"],[0.3333333333333333,\"#9c179e\"],[0.4444444444444444,\"#bd3786\"],[0.5555555555555556,\"#d8576b\"],[0.6666666666666666,\"#ed7953\"],[0.7777777777777778,\"#fb9f3a\"],[0.8888888888888888,\"#fdca26\"],[1.0,\"#f0f921\"]],\"sequentialminus\":[[0.0,\"#0d0887\"],[0.1111111111111111,\"#46039f\"],[0.2222222222222222,\"#7201a8\"],[0.3333333333333333,\"#9c179e\"],[0.4444444444444444,\"#bd3786\"],[0.5555555555555556,\"#d8576b\"],[0.6666666666666666,\"#ed7953\"],[0.7777777777777778,\"#fb9f3a\"],[0.8888888888888888,\"#fdca26\"],[1.0,\"#f0f921\"]]},\"colorway\":[\"#636efa\",\"#EF553B\",\"#00cc96\",\"#ab63fa\",\"#FFA15A\",\"#19d3f3\",\"#FF6692\",\"#B6E880\",\"#FF97FF\",\"#FECB52\"],\"font\":{\"color\":\"#2a3f5f\"},\"geo\":{\"bgcolor\":\"white\",\"lakecolor\":\"white\",\"landcolor\":\"#E5ECF6\",\"showlakes\":true,\"showland\":true,\"subunitcolor\":\"white\"},\"hoverlabel\":{\"align\":\"left\"},\"hovermode\":\"closest\",\"mapbox\":{\"style\":\"light\"},\"paper_bgcolor\":\"white\",\"plot_bgcolor\":\"#E5ECF6\",\"polar\":{\"angularaxis\":{\"gridcolor\":\"white\",\"linecolor\":\"white\",\"ticks\":\"\"},\"bgcolor\":\"#E5ECF6\",\"radialaxis\":{\"gridcolor\":\"white\",\"linecolor\":\"white\",\"ticks\":\"\"}},\"scene\":{\"xaxis\":{\"backgroundcolor\":\"#E5ECF6\",\"gridcolor\":\"white\",\"gridwidth\":2,\"linecolor\":\"white\",\"showbackground\":true,\"ticks\":\"\",\"zerolinecolor\":\"white\"},\"yaxis\":{\"backgroundcolor\":\"#E5ECF6\",\"gridcolor\":\"white\",\"gridwidth\":2,\"linecolor\":\"white\",\"showbackground\":true,\"ticks\":\"\",\"zerolinecolor\":\"white\"},\"zaxis\":{\"backgroundcolor\":\"#E5ECF6\",\"gridcolor\":\"white\",\"gridwidth\":2,\"linecolor\":\"white\",\"showbackground\":true,\"ticks\":\"\",\"zerolinecolor\":\"white\"}},\"shapedefaults\":{\"line\":{\"color\":\"#2a3f5f\"}},\"ternary\":{\"aaxis\":{\"gridcolor\":\"white\",\"linecolor\":\"white\",\"ticks\":\"\"},\"baxis\":{\"gridcolor\":\"white\",\"linecolor\":\"white\",\"ticks\":\"\"},\"bgcolor\":\"#E5ECF6\",\"caxis\":{\"gridcolor\":\"white\",\"linecolor\":\"white\",\"ticks\":\"\"}},\"title\":{\"x\":0.05},\"xaxis\":{\"automargin\":true,\"gridcolor\":\"white\",\"linecolor\":\"white\",\"ticks\":\"\",\"title\":{\"standoff\":15},\"zerolinecolor\":\"white\",\"zerolinewidth\":2},\"yaxis\":{\"automargin\":true,\"gridcolor\":\"white\",\"linecolor\":\"white\",\"ticks\":\"\",\"title\":{\"standoff\":15},\"zerolinecolor\":\"white\",\"zerolinewidth\":2}}},\"xaxis\":{\"anchor\":\"y\",\"domain\":[0.0,1.0],\"title\":{\"text\":\"x\"}},\"yaxis\":{\"anchor\":\"x\",\"domain\":[0.0,1.0],\"title\":{\"text\":\"y\"}},\"legend\":{\"tracegroupgap\":0},\"margin\":{\"t\":60}},                        {\"responsive\": true}                    ).then(function(){\n",
              "                            \n",
              "var gd = document.getElementById('8403ed72-800f-4b23-870a-dff8ad00a116');\n",
              "var x = new MutationObserver(function (mutations, observer) {{\n",
              "        var display = window.getComputedStyle(gd).display;\n",
              "        if (!display || display === 'none') {{\n",
              "            console.log([gd, 'removed!']);\n",
              "            Plotly.purge(gd);\n",
              "            observer.disconnect();\n",
              "        }}\n",
              "}});\n",
              "\n",
              "// Listen for the removal of the full notebook cells\n",
              "var notebookContainer = gd.closest('#notebook-container');\n",
              "if (notebookContainer) {{\n",
              "    x.observe(notebookContainer, {childList: true});\n",
              "}}\n",
              "\n",
              "// Listen for the clearing of the current output cell\n",
              "var outputEl = gd.closest('.output');\n",
              "if (outputEl) {{\n",
              "    x.observe(outputEl, {childList: true});\n",
              "}}\n",
              "\n",
              "                        })                };                            </script>        </div>\n",
              "</body>\n",
              "</html>"
            ]
          },
          "metadata": {}
        }
      ]
    },
    {
      "cell_type": "markdown",
      "source": [
        "Tune model"
      ],
      "metadata": {
        "id": "kPdNtxncRTt9"
      }
    },
    {
      "cell_type": "code",
      "source": [
        "clf = make_pipeline(\n",
        "    RandomForestClassifier(random_state=42,n_jobs=-1,max_depth=5,n_estimators=100)\n",
        ")\n",
        "\n",
        "param_grid = {'randomforestclassifier__max_depth':range(5,40,5),\n",
        "              'randomforestclassifier__n_estimators':range(25,125,25)}\n",
        "\n",
        "model = RandomizedSearchCV(clf, param_distributions=param_grid, n_jobs=-1,\n",
        "                           verbose=1, n_iter=25,cv=5)\n",
        "\n",
        "model.fit(X,y)\n",
        "\n",
        "model.best_estimator_"
      ],
      "metadata": {
        "colab": {
          "base_uri": "https://localhost:8080/"
        },
        "id": "jQDg8pT6RWqM",
        "outputId": "6ff033dd-35cf-489b-d315-eb3605d610ed"
      },
      "execution_count": 41,
      "outputs": [
        {
          "output_type": "stream",
          "name": "stdout",
          "text": [
            "Fitting 5 folds for each of 25 candidates, totalling 125 fits\n"
          ]
        },
        {
          "output_type": "execute_result",
          "data": {
            "text/plain": [
              "Pipeline(steps=[('randomforestclassifier',\n",
              "                 RandomForestClassifier(max_depth=30, n_estimators=75,\n",
              "                                        n_jobs=-1, random_state=42))])"
            ]
          },
          "metadata": {},
          "execution_count": 41
        }
      ]
    },
    {
      "cell_type": "code",
      "source": [
        "model_rf2 = RandomForestClassifier(max_depth = 5, n_estimators=75, n_jobs=1, random_state=42)\n",
        "\n",
        "model_rf2.fit(X_train,y_train)"
      ],
      "metadata": {
        "colab": {
          "base_uri": "https://localhost:8080/"
        },
        "id": "cvJcw8VISZVD",
        "outputId": "49aab5d4-6096-4a19-848d-0f3fd0a6b80e"
      },
      "execution_count": 42,
      "outputs": [
        {
          "output_type": "execute_result",
          "data": {
            "text/plain": [
              "RandomForestClassifier(max_depth=5, n_estimators=75, n_jobs=1, random_state=42)"
            ]
          },
          "metadata": {},
          "execution_count": 42
        }
      ]
    },
    {
      "cell_type": "code",
      "source": [
        "pred2 = model_rf2.predict(X_test)"
      ],
      "metadata": {
        "id": "mon02gzcUAJD"
      },
      "execution_count": 43,
      "outputs": []
    },
    {
      "cell_type": "code",
      "source": [
        "print(\"Model mean absolute error\",mean_absolute_error(y_test, pred2))"
      ],
      "metadata": {
        "colab": {
          "base_uri": "https://localhost:8080/"
        },
        "id": "9Lk8SLmkUFg2",
        "outputId": "59de942e-a062-4e21-ff17-76bcab4513d8"
      },
      "execution_count": 46,
      "outputs": [
        {
          "output_type": "stream",
          "name": "stdout",
          "text": [
            "Model mean absolute error 0.11475409836065574\n"
          ]
        }
      ]
    },
    {
      "cell_type": "code",
      "source": [
        "print(\"Model score\",model_rf2.score(X_test,y_test))"
      ],
      "metadata": {
        "colab": {
          "base_uri": "https://localhost:8080/"
        },
        "id": "aoYTcEbCUPFY",
        "outputId": "3f2d9b47-a638-4a4f-a7fc-8d903bfb38a0"
      },
      "execution_count": 47,
      "outputs": [
        {
          "output_type": "stream",
          "name": "stdout",
          "text": [
            "Model score 0.8852459016393442\n"
          ]
        }
      ]
    }
  ]
}